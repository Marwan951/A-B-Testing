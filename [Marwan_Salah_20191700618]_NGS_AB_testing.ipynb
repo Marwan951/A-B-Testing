{
  "nbformat": 4,
  "nbformat_minor": 0,
  "metadata": {
    "colab": {
      "provenance": []
    },
    "kernelspec": {
      "name": "ir",
      "display_name": "R"
    },
    "language_info": {
      "name": "R"
    }
  },
  "cells": [
    {
      "cell_type": "markdown",
      "source": [
        "# Welcome to NGS Summer Training Project!"
      ],
      "metadata": {
        "id": "Qp1HoU8vpwjg"
      }
    },
    {
      "cell_type": "markdown",
      "source": [
        "It will be covering the **\"Statistics + R\"** training content using **Cookie Cats** dataset."
      ],
      "metadata": {
        "id": "68hydvf-rDne"
      }
    },
    {
      "cell_type": "markdown",
      "source": [
        "Description: Cookie Cats is a hugely popular mobile puzzle game developed by Tactile Entertainment. It's a classic \"connect three\"-style puzzle game where the player must connect tiles of the same color to clear the board and win the level. It also features singing cats.\n",
        "\n",
        "As players progress through the levels of the game, they will occasionally encounter gates that force them to wait a non-trivial amount of time or make an in-app purchase to progress. In addition to driving in-app purchases, these gates serve the important purpose of giving players an enforced break from playing the game, hopefully resulting in that the player's enjoyment of the game being increased and prolonged.\n",
        "\n",
        "But where should the gates be placed? Initially, the first gate was placed at level 30. In this project, we're going to analyze an AB-test where we moved the first gate in Cookie Cats from level 30 to level 40. In particular, we will look at the impact on player retention."
      ],
      "metadata": {
        "id": "r_oURCacrFz_"
      }
    },
    {
      "cell_type": "code",
      "source": [
        "# To read the dataset into a data frame, run this cell\n",
        "# https://drive.google.com/file/d/1kSAaGB0jU2X_6Q4hoRf7klDTOSQMCd_a/view\n",
        "\n",
        "system(\"gdown --id 1kSAaGB0jU2X_6Q4hoRf7klDTOSQMCd_a\")\n",
        "cookie_cats = read.csv(\"cookie_cats.csv\")\n",
        "cookie_cats1 = cookie_cats\n",
        "dim(cookie_cats)"
      ],
      "metadata": {
        "id": "BrIne3jFrHI3",
        "colab": {
          "base_uri": "https://localhost:8080/",
          "height": 34
        },
        "outputId": "ab2f2537-809f-49f6-b7ed-56b0547dede6"
      },
      "execution_count": null,
      "outputs": [
        {
          "output_type": "display_data",
          "data": {
            "text/html": [
              "<style>\n",
              ".list-inline {list-style: none; margin:0; padding: 0}\n",
              ".list-inline>li {display: inline-block}\n",
              ".list-inline>li:not(:last-child)::after {content: \"\\00b7\"; padding: 0 .5ex}\n",
              "</style>\n",
              "<ol class=list-inline><li>90189</li><li>5</li></ol>\n"
            ],
            "text/markdown": "1. 90189\n2. 5\n\n\n",
            "text/latex": "\\begin{enumerate*}\n\\item 90189\n\\item 5\n\\end{enumerate*}\n",
            "text/plain": [
              "[1] 90189     5"
            ]
          },
          "metadata": {}
        }
      ]
    },
    {
      "cell_type": "code",
      "source": [
        "# To learn more about the structure and variables of the dataset, use str() and head()\n",
        "str(cookie_cats)\n",
        "head(cookie_cats)"
      ],
      "metadata": {
        "id": "K10Kgdf5vkjZ",
        "colab": {
          "base_uri": "https://localhost:8080/",
          "height": 390
        },
        "outputId": "979a0410-70ef-4243-8661-2db0aa7bfce2"
      },
      "execution_count": null,
      "outputs": [
        {
          "output_type": "stream",
          "name": "stdout",
          "text": [
            "'data.frame':\t90189 obs. of  5 variables:\n",
            " $ userid        : int  116 337 377 483 488 540 1066 1444 1574 1587 ...\n",
            " $ version       : chr  \"gate_30\" \"gate_30\" \"gate_40\" \"gate_40\" ...\n",
            " $ sum_gamerounds: int  3 38 165 1 179 187 0 2 108 153 ...\n",
            " $ retention_1   : chr  \"False\" \"True\" \"True\" \"False\" ...\n",
            " $ retention_7   : chr  \"False\" \"False\" \"False\" \"False\" ...\n"
          ]
        },
        {
          "output_type": "display_data",
          "data": {
            "text/html": [
              "<table class=\"dataframe\">\n",
              "<caption>A data.frame: 6 × 5</caption>\n",
              "<thead>\n",
              "\t<tr><th></th><th scope=col>userid</th><th scope=col>version</th><th scope=col>sum_gamerounds</th><th scope=col>retention_1</th><th scope=col>retention_7</th></tr>\n",
              "\t<tr><th></th><th scope=col>&lt;int&gt;</th><th scope=col>&lt;chr&gt;</th><th scope=col>&lt;int&gt;</th><th scope=col>&lt;chr&gt;</th><th scope=col>&lt;chr&gt;</th></tr>\n",
              "</thead>\n",
              "<tbody>\n",
              "\t<tr><th scope=row>1</th><td>116</td><td>gate_30</td><td>  3</td><td>False</td><td>False</td></tr>\n",
              "\t<tr><th scope=row>2</th><td>337</td><td>gate_30</td><td> 38</td><td>True </td><td>False</td></tr>\n",
              "\t<tr><th scope=row>3</th><td>377</td><td>gate_40</td><td>165</td><td>True </td><td>False</td></tr>\n",
              "\t<tr><th scope=row>4</th><td>483</td><td>gate_40</td><td>  1</td><td>False</td><td>False</td></tr>\n",
              "\t<tr><th scope=row>5</th><td>488</td><td>gate_40</td><td>179</td><td>True </td><td>True </td></tr>\n",
              "\t<tr><th scope=row>6</th><td>540</td><td>gate_40</td><td>187</td><td>True </td><td>True </td></tr>\n",
              "</tbody>\n",
              "</table>\n"
            ],
            "text/markdown": "\nA data.frame: 6 × 5\n\n| <!--/--> | userid &lt;int&gt; | version &lt;chr&gt; | sum_gamerounds &lt;int&gt; | retention_1 &lt;chr&gt; | retention_7 &lt;chr&gt; |\n|---|---|---|---|---|---|\n| 1 | 116 | gate_30 |   3 | False | False |\n| 2 | 337 | gate_30 |  38 | True  | False |\n| 3 | 377 | gate_40 | 165 | True  | False |\n| 4 | 483 | gate_40 |   1 | False | False |\n| 5 | 488 | gate_40 | 179 | True  | True  |\n| 6 | 540 | gate_40 | 187 | True  | True  |\n\n",
            "text/latex": "A data.frame: 6 × 5\n\\begin{tabular}{r|lllll}\n  & userid & version & sum\\_gamerounds & retention\\_1 & retention\\_7\\\\\n  & <int> & <chr> & <int> & <chr> & <chr>\\\\\n\\hline\n\t1 & 116 & gate\\_30 &   3 & False & False\\\\\n\t2 & 337 & gate\\_30 &  38 & True  & False\\\\\n\t3 & 377 & gate\\_40 & 165 & True  & False\\\\\n\t4 & 483 & gate\\_40 &   1 & False & False\\\\\n\t5 & 488 & gate\\_40 & 179 & True  & True \\\\\n\t6 & 540 & gate\\_40 & 187 & True  & True \\\\\n\\end{tabular}\n",
            "text/plain": [
              "  userid version sum_gamerounds retention_1 retention_7\n",
              "1 116    gate_30   3            False       False      \n",
              "2 337    gate_30  38            True        False      \n",
              "3 377    gate_40 165            True        False      \n",
              "4 483    gate_40   1            False       False      \n",
              "5 488    gate_40 179            True        True       \n",
              "6 540    gate_40 187            True        True       "
            ]
          },
          "metadata": {}
        }
      ]
    },
    {
      "cell_type": "markdown",
      "source": [
        "# 1. **EDA**\n",
        "#Exploratory Data Analysis\n",
        "\n",
        "Let's perform an EDA on our data in order to learn more about its variables."
      ],
      "metadata": {
        "id": "yQvnHExxJ1Fz"
      }
    },
    {
      "cell_type": "code",
      "source": [
        "install.packages(\"naniar\")\n",
        "library(naniar)\n",
        "# First, let's check if the data contains any missing values\n",
        "gg_miss_var(cookie_cats)\n",
        "# Let's check if there are any duplicates using duplicated()\n",
        "sum(duplicated(cookie_cats))"
      ],
      "metadata": {
        "id": "A3uGfCZY_9Pt",
        "colab": {
          "base_uri": "https://localhost:8080/",
          "height": 541
        },
        "outputId": "b7ff002a-cbc8-431c-8f4c-9d497b16513c"
      },
      "execution_count": null,
      "outputs": [
        {
          "output_type": "stream",
          "name": "stderr",
          "text": [
            "Installing package into ‘/usr/local/lib/R/site-library’\n",
            "(as ‘lib’ is unspecified)\n",
            "\n",
            "Warning message:\n",
            "“It is deprecated to specify `guide = FALSE` to remove a guide. Please use `guide = \"none\"` instead.”\n"
          ]
        },
        {
          "output_type": "display_data",
          "data": {
            "text/html": [
              "0"
            ],
            "text/markdown": "0",
            "text/latex": "0",
            "text/plain": [
              "[1] 0"
            ]
          },
          "metadata": {}
        },
        {
          "output_type": "display_data",
          "data": {
            "text/plain": [
              "plot without title"
            ],
            "image/png": "[encoded data removed]"
          },
          "metadata": {
            "image/png": {
              "width": 420,
              "height": 420
            }
          }
        }
      ]
    },
    {
      "cell_type": "code",
      "source": [
        "# Note: retention_1 and retention_7 are character variables not bool, find the appropriate function to convert them\n",
        "\n",
        "#Convert retention_1 from char to bool\n",
        "cookie_cats$retention_1 [cookie_cats$retention_1 == \"True\"] <- 1\n",
        "cookie_cats$retention_1 [cookie_cats$retention_1 == \"False\"] <- 0\n",
        "cookie_cats$retention_1 <- as.integer(cookie_cats$retention_1)\n",
        "\n",
        "#Convert retention_7 from char to bool\n",
        "cookie_cats$retention_7 [cookie_cats$retention_7 == \"True\"] <- 1\n",
        "cookie_cats$retention_7 [cookie_cats$retention_7 == \"False\"] <- 0\n",
        "cookie_cats$retention_7 <- as.integer(cookie_cats$retention_7)\n",
        "\n",
        "# Next, let's find the number of players who came back to play after 1 day or 7 days of installing using sum()\n",
        "#cookie_cats['retention_1'].Count()\n",
        "number_players_1day <- sum(cookie_cats['retention_1'])\n",
        "number_players_7day <- sum(cookie_cats['retention_7'])\n",
        "\n",
        "\n",
        "print(number_players_1day)\n",
        "print(number_players_7day)"
      ],
      "metadata": {
        "id": "xSN24axo23aX",
        "colab": {
          "base_uri": "https://localhost:8080/"
        },
        "outputId": "a84f088f-d271-4926-e04a-a3fe580b31dd"
      },
      "execution_count": null,
      "outputs": [
        {
          "output_type": "stream",
          "name": "stdout",
          "text": [
            "[1] 40153\n",
            "[1] 16781\n"
          ]
        }
      ]
    },
    {
      "cell_type": "code",
      "source": [
        "install.packages(\"ggplot2\")\n",
        "library(ggplot2)\n",
        "\n",
        "# Let's now display retention_1 and retention_7 separately using a barplot\n",
        "\n",
        "ggplot(cookie_cats,aes(x = retention_1 , fill = version )) + geom_bar() + theme_light()\n",
        "ggplot(cookie_cats,aes(x = retention_7 , fill = version)) + geom_bar() + theme_light()"
      ],
      "metadata": {
        "id": "m-PWIVu1PWue",
        "colab": {
          "base_uri": "https://localhost:8080/",
          "height": 909
        },
        "outputId": "d4794b6b-3ba7-43ac-b486-4c3d580333a5"
      },
      "execution_count": null,
      "outputs": [
        {
          "output_type": "stream",
          "name": "stderr",
          "text": [
            "Installing package into ‘/usr/local/lib/R/site-library’\n",
            "(as ‘lib’ is unspecified)\n",
            "\n"
          ]
        },
        {
          "output_type": "display_data",
          "data": {
            "text/plain": [
              "plot without title"
            ],
            "image/png": "[encoded data removed]"
          },
          "metadata": {
            "image/png": {
              "width": 420,
              "height": 420
            }
          }
        },
        {
          "output_type": "display_data",
          "data": {
            "text/plain": [
              "plot without title"
            ],
            "image/png": "[encoded data removed]"
          },
          "metadata": {
            "image/png": {
              "width": 420,
              "height": 420
            }
          }
        }
      ]
    },
    {
      "cell_type": "code",
      "source": [
        "# Finally, let's use summary() to find summaries regarding each variable\n",
        "summary(cookie_cats)"
      ],
      "metadata": {
        "id": "7ApnJq6pKiaz",
        "colab": {
          "base_uri": "https://localhost:8080/",
          "height": 260
        },
        "outputId": "60de2683-4c26-4f08-c135-7201bcc59183"
      },
      "execution_count": null,
      "outputs": [
        {
          "output_type": "display_data",
          "data": {
            "text/plain": [
              "     userid          version          sum_gamerounds      retention_1    \n",
              " Min.   :    116   Length:90189       Min.   :    0.00   Min.   :0.0000  \n",
              " 1st Qu.:2512230   Class :character   1st Qu.:    5.00   1st Qu.:0.0000  \n",
              " Median :4995815   Mode  :character   Median :   16.00   Median :0.0000  \n",
              " Mean   :4998412                      Mean   :   51.87   Mean   :0.4452  \n",
              " 3rd Qu.:7496452                      3rd Qu.:   51.00   3rd Qu.:1.0000  \n",
              " Max.   :9999861                      Max.   :49854.00   Max.   :1.0000  \n",
              "  retention_7    \n",
              " Min.   :0.0000  \n",
              " 1st Qu.:0.0000  \n",
              " Median :0.0000  \n",
              " Mean   :0.1861  \n",
              " 3rd Qu.:0.0000  \n",
              " Max.   :1.0000  "
            ]
          },
          "metadata": {}
        }
      ]
    },
    {
      "cell_type": "markdown",
      "source": [
        "# 2.**The AB-test data**\n",
        "\n",
        "The data we have is from 90,189 players that installed the game while the AB-test was running. The variables are:\n",
        "\n",
        "**userid** - a unique number that identifies each player.\n",
        "\n",
        "**version** - whether the player was put in the control group (gate_30 - a gate at level 30) or the group with the moved gate (gate_40 - a gate at level 40).\n",
        "\n",
        "**sum_gamerounds** - the number of game rounds played by the player during the first 14 days after install.\n",
        "\n",
        "**retention_1** - did the player come back and play **1 day** after installing?\n",
        "\n",
        "**retention_7** - did the player come back and play **7 days** after installing?\n",
        "\n"
      ],
      "metadata": {
        "id": "Qo7QCzlhvtcc"
      }
    },
    {
      "cell_type": "markdown",
      "source": [
        "# Problem Statement:\n",
        "\n",
        "\\begin{equation} H_{0} : p_{gate30} - p_{gate40} >= 0 \\end{equation}\n",
        "\n",
        "\\begin{equation} H_{1} : p_{gate30} - p_{gate40} < 0 \\end{equation}"
      ],
      "metadata": {
        "id": "34UpqKXl7ulL"
      }
    },
    {
      "cell_type": "markdown",
      "source": [
        "When a player installed the game, he or she was randomly assigned to either **gate_30** or **gate_40**. As a sanity check, let's see if there are roughly the same number of players in each AB group."
      ],
      "metadata": {
        "id": "e7--We9t7-On"
      }
    },
    {
      "cell_type": "code",
      "source": [
        "#Counting the number of players in each A/B group.(gate30 / gate40)\n",
        "install.packages(\"dplyr\")\n",
        "library(dplyr)\n",
        "\n",
        "cookie_cats %>% group_by(version) %>% summarise(userid = n())"
      ],
      "metadata": {
        "id": "JQYIiUwhCwYv",
        "colab": {
          "base_uri": "https://localhost:8080/",
          "height": 213
        },
        "outputId": "ec27ba21-3d6e-45d8-c07b-5d0f20f263d0"
      },
      "execution_count": null,
      "outputs": [
        {
          "output_type": "stream",
          "name": "stderr",
          "text": [
            "Installing package into ‘/usr/local/lib/R/site-library’\n",
            "(as ‘lib’ is unspecified)\n",
            "\n"
          ]
        },
        {
          "output_type": "display_data",
          "data": {
            "text/html": [
              "<table class=\"dataframe\">\n",
              "<caption>A tibble: 2 × 2</caption>\n",
              "<thead>\n",
              "\t<tr><th scope=col>version</th><th scope=col>userid</th></tr>\n",
              "\t<tr><th scope=col>&lt;chr&gt;</th><th scope=col>&lt;int&gt;</th></tr>\n",
              "</thead>\n",
              "<tbody>\n",
              "\t<tr><td>gate_30</td><td>44700</td></tr>\n",
              "\t<tr><td>gate_40</td><td>45489</td></tr>\n",
              "</tbody>\n",
              "</table>\n"
            ],
            "text/markdown": "\nA tibble: 2 × 2\n\n| version &lt;chr&gt; | userid &lt;int&gt; |\n|---|---|\n| gate_30 | 44700 |\n| gate_40 | 45489 |\n\n",
            "text/latex": "A tibble: 2 × 2\n\\begin{tabular}{ll}\n version & userid\\\\\n <chr> & <int>\\\\\n\\hline\n\t gate\\_30 & 44700\\\\\n\t gate\\_40 & 45489\\\\\n\\end{tabular}\n",
            "text/plain": [
              "  version userid\n",
              "1 gate_30 44700 \n",
              "2 gate_40 45489 "
            ]
          },
          "metadata": {}
        }
      ]
    },
    {
      "cell_type": "markdown",
      "source": [
        "## 2. The distribution of game rounds\n",
        "<p><img src=\"https://assets.datacamp.com/production/project_184/img/mr_waffles_smiling.png\" style=\"width:50px; float:right\"> </p>\n",
        "<p>It looks like there is roughly the same number of players in each group, nice!</p>\n",
        "<p>The focus of this analysis will be on how the gate placement affects player retention, but just for fun: Let's plot the distribution of the number of game rounds players played during their first week playing the game.</p>"
      ],
      "metadata": {
        "id": "n4XwPNe8DbCq"
      }
    },
    {
      "cell_type": "code",
      "source": [
        "# The distribution of game rounds\n",
        "# Plotting the distribution of players that played 0 to 100 game rounds\n",
        "\n",
        "#Get the first 100 rows\n",
        "cookie_cats100 = head(cookie_cats,100)\n",
        "\n",
        "#find the number of players in each round\n",
        "rounds_distribution = cookie_cats100 %>% group_by(sum_gamerounds) %>% summarise(userid = n())\n",
        "\n",
        "# x label -> game rounds &&  y label -> players in this round\n",
        "plt <- ggplot (rounds_distribution,aes(sum_gamerounds,userid))+geom_col() + ggtitle(\"The distribution of game rounds\") + xlab(\"Round\") + ylab(\"Players\")\n",
        "plt\n"
      ],
      "metadata": {
        "id": "uwNINT2qEEtK",
        "colab": {
          "base_uri": "https://localhost:8080/",
          "height": 437
        },
        "outputId": "e4732aef-219c-4310-fe5f-b18f9de5eae3"
      },
      "execution_count": null,
      "outputs": [
        {
          "output_type": "display_data",
          "data": {
            "text/plain": [
              "plot without title"
            ],
            "image/png": "[encoded data removed]"
          },
          "metadata": {
            "image/png": {
              "width": 420,
              "height": 420
            }
          }
        }
      ]
    },
    {
      "cell_type": "markdown",
      "source": [
        "**3. Overall 1-day retention**\n",
        "\n",
        "In the plot above we can see that some players install the game but then never play it (0 game rounds), some players just play a couple of game rounds in their first week, and some get really hooked!\n",
        "\n",
        "\n",
        "\n",
        "What we want is for players to like the game and to get hooked. A common metric in the video gaming industry for how fun and engaging a game is 1-day retention: The percentage of players that comes back and plays the game one day after they have installed it. The higher 1-day retention is, the easier it is to retain players and build a large player base.\n",
        "\n",
        "\n",
        "\n",
        "As a first step, **let's look at what 1-day and 7-day retention is overall.**"
      ],
      "metadata": {
        "id": "YlwoBRwPZmKI"
      }
    },
    {
      "cell_type": "code",
      "source": [
        "# The % of users that came back the day(retention_1) after they installed\n",
        "per_1day <- (sum(cookie_cats['retention_1']) / count(cookie_cats['retention_1']) )\n",
        "print(per_1day)\n",
        "\n",
        "# The % of users that came back a week(retention_7) after they installed\n",
        "per_7day <- ( sum(cookie_cats['retention_7']) / count(cookie_cats['retention_7']) )\n",
        "print(per_7day)"
      ],
      "metadata": {
        "id": "aTcMu5gEFRhj",
        "colab": {
          "base_uri": "https://localhost:8080/"
        },
        "outputId": "b19faac7-dcf5-4fa9-8e0c-71a431559c05"
      },
      "execution_count": null,
      "outputs": [
        {
          "output_type": "stream",
          "name": "stdout",
          "text": [
            "          n\n",
            "1 0.4452095\n",
            "          n\n",
            "1 0.1860648\n"
          ]
        }
      ]
    },
    {
      "cell_type": "markdown",
      "source": [
        "So, a little less than half of the players come back one day after installing the game. 18 percent of the players come back 7 day after installing the game.\n",
        "\n",
        "Now that we have a benchmark, let's look at how retention rates differs between the two A/B groups(gate30 /gate40).\n",
        "\n",
        "\n",
        "\n"
      ],
      "metadata": {
        "id": "Ckdm3jD1Hz6J"
      }
    },
    {
      "cell_type": "code",
      "source": [
        "#Calculating the percentage of 1-day retention for each A/B group\n",
        "SUM_1day  <- cookie_cats %>% group_by(version) %>% summarise(retention_1 = sum(retention_1))\n",
        "COUNT_1day <- cookie_cats %>% group_by(version) %>% summarise(retention_1 = n())\n",
        "percentage_1day_AB_group <- SUM_1day['retention_1'] / COUNT_1day['retention_1']\n",
        "print(percentage_1day_AB_group)\n",
        "\n",
        "#Calculating the percentage of 7-days retention for each A/B group\n",
        "SUM_7day   <- cookie_cats %>% group_by(version) %>% summarise(retention_7 = sum(retention_7))\n",
        "COUNT_1day <- cookie_cats %>% group_by(version) %>% summarise(retention_7 = n())\n",
        "percentage_7day_AB_group <- SUM_7day['retention_7'] / COUNT_1day['retention_7']\n",
        "print(percentage_7day_AB_group)"
      ],
      "metadata": {
        "id": "958cT_9D4WfM",
        "colab": {
          "base_uri": "https://localhost:8080/"
        },
        "outputId": "c61c7a46-92a2-4627-a475-9137a28cb28f"
      },
      "execution_count": null,
      "outputs": [
        {
          "output_type": "stream",
          "name": "stdout",
          "text": [
            "  retention_1\n",
            "1   0.4481879\n",
            "2   0.4422827\n",
            "  retention_7\n",
            "1   0.1902013\n",
            "2   0.1820000\n"
          ]
        }
      ]
    },
    {
      "cell_type": "markdown",
      "source": [
        "There was a slight decrease in 1-day retention when the gate was moved to level 40 (44.2%) compared to the control group when it was at level 30 (44.8%).\n",
        "\n",
        "Again,a decrease in 7-day retention when the gate was moved to level 40 (18.2%) compared to the control group when it was at level 30 (19.8%).\n",
        "\n",
        "It's a small change, but even small changes in retention can have a large impact. But while we are certain of the difference in the data, how certain should we be that a gate at level 40 will be worse in the future?\n",
        "\n",
        "There are a couple of ways we can get at the certainty of these retention numbers. Here we will use **bootstrapping**."
      ],
      "metadata": {
        "id": "inX893Ak4ke-"
      }
    },
    {
      "cell_type": "markdown",
      "source": [
        "# 4. A/B Testing: Bootstrapping\n",
        "**Definiton of Method**\n",
        "\n",
        "\n",
        "\n",
        "We'll use **bootstrapping** for A/B testing. The basic idea of bootstrapping is that inference about a population from sample data (sample → population) can be modelled by resampling the sample data and performing inference about a sample from resampled data (resampled → sample). As the population is unknown, the true error in a sample statistic against its population value is unknown. In bootstrap-resamples, the 'population' is in fact the sample, and this is known; hence the quality of inference of the 'true' sample from resampled data (resampled → sample) is measurable.\n",
        "\n",
        "**Testing Steps:**\n",
        "\n",
        "1-Creating 500 samples of dataset (bootstraping)\n",
        "\n",
        "2-Calculating 1-day retentions for A/B groups\n",
        "\n",
        "3-Plotting the bootstrap distributions\n",
        "\n",
        "4-Calculating the observed differnce and the p_value\n",
        "\n",
        "5-making decisions to reject or fail to reject the null hypthesis\n",
        "\n",
        "6-repeat the previous steps on 7-day retention for A/B groups\n",
        "\n",
        "7-Evaluating results and making recommendation"
      ],
      "metadata": {
        "id": "VZRATskNJ7Pz"
      }
    },
    {
      "cell_type": "code",
      "source": [
        "# Creating an list with bootstrapped means(NULL distribution) for group ( retention_1)\n",
        "install.packages(\"infer\")\n",
        "library(infer)\n",
        "\n",
        "NULL_distribution <- cookie_cats1 %>%\n",
        "  specify(formula =  version ~ retention_1 ,success = \"gate_40\" ) %>%\n",
        "  hypothesize(null = \"independence\") %>%\n",
        "  generate(reps = 500,type = \"permute\") %>%\n",
        "  calculate(stat = \"diff in props\" , order = c(\"False\",\"True\"))\n",
        "head(NULL_distribution)"
      ],
      "metadata": {
        "id": "5aazvtEzIy6g",
        "colab": {
          "base_uri": "https://localhost:8080/",
          "height": 338
        },
        "outputId": "c3a6a3bb-cc56-409a-cd41-64d3bd0fca27"
      },
      "execution_count": null,
      "outputs": [
        {
          "output_type": "stream",
          "name": "stderr",
          "text": [
            "Installing package into ‘/usr/local/lib/R/site-library’\n",
            "(as ‘lib’ is unspecified)\n",
            "\n"
          ]
        },
        {
          "output_type": "display_data",
          "data": {
            "text/html": [
              "<table class=\"dataframe\">\n",
              "<caption>A infer: 6 × 2</caption>\n",
              "<thead>\n",
              "\t<tr><th scope=col>replicate</th><th scope=col>stat</th></tr>\n",
              "\t<tr><th scope=col>&lt;int&gt;</th><th scope=col>&lt;dbl&gt;</th></tr>\n",
              "</thead>\n",
              "<tbody>\n",
              "\t<tr><td>1</td><td>-0.0081190864</td></tr>\n",
              "\t<tr><td>2</td><td>-0.0004877269</td></tr>\n",
              "\t<tr><td>3</td><td> 0.0025199265</td></tr>\n",
              "\t<tr><td>4</td><td>-0.0059194593</td></tr>\n",
              "\t<tr><td>5</td><td>-0.0040340646</td></tr>\n",
              "\t<tr><td>6</td><td>-0.0025077927</td></tr>\n",
              "</tbody>\n",
              "</table>\n"
            ],
            "text/markdown": "\nA infer: 6 × 2\n\n| replicate &lt;int&gt; | stat &lt;dbl&gt; |\n|---|---|\n| 1 | -0.0081190864 |\n| 2 | -0.0004877269 |\n| 3 |  0.0025199265 |\n| 4 | -0.0059194593 |\n| 5 | -0.0040340646 |\n| 6 | -0.0025077927 |\n\n",
            "text/latex": "A infer: 6 × 2\n\\begin{tabular}{ll}\n replicate & stat\\\\\n <int> & <dbl>\\\\\n\\hline\n\t 1 & -0.0081190864\\\\\n\t 2 & -0.0004877269\\\\\n\t 3 &  0.0025199265\\\\\n\t 4 & -0.0059194593\\\\\n\t 5 & -0.0040340646\\\\\n\t 6 & -0.0025077927\\\\\n\\end{tabular}\n",
            "text/plain": [
              "  replicate stat         \n",
              "1 1         -0.0081190864\n",
              "2 2         -0.0004877269\n",
              "3 3          0.0025199265\n",
              "4 4         -0.0059194593\n",
              "5 5         -0.0040340646\n",
              "6 6         -0.0025077927"
            ]
          },
          "metadata": {}
        }
      ]
    },
    {
      "cell_type": "code",
      "source": [
        "#calculate the observed statistics (actual statistics)\n",
        "point <- cookie_cats1 %>%group_by(version) %>%summarize (e = mean(retention_1 == \"False\")) %>%summarize(diff(e))\n",
        "point"
      ],
      "metadata": {
        "id": "FWux0nHmK8sv",
        "colab": {
          "base_uri": "https://localhost:8080/",
          "height": 129
        },
        "outputId": "801887df-c84b-4844-e280-443d0605b590"
      },
      "execution_count": null,
      "outputs": [
        {
          "output_type": "display_data",
          "data": {
            "text/html": [
              "<table class=\"dataframe\">\n",
              "<caption>A tibble: 1 × 1</caption>\n",
              "<thead>\n",
              "\t<tr><th scope=col>diff(e)</th></tr>\n",
              "\t<tr><th scope=col>&lt;dbl&gt;</th></tr>\n",
              "</thead>\n",
              "<tbody>\n",
              "\t<tr><td>0.00590517</td></tr>\n",
              "</tbody>\n",
              "</table>\n"
            ],
            "text/markdown": "\nA tibble: 1 × 1\n\n| diff(e) &lt;dbl&gt; |\n|---|\n| 0.00590517 |\n\n",
            "text/latex": "A tibble: 1 × 1\n\\begin{tabular}{l}\n diff(e)\\\\\n <dbl>\\\\\n\\hline\n\t 0.00590517\\\\\n\\end{tabular}\n",
            "text/plain": [
              "  diff(e)   \n",
              "1 0.00590517"
            ]
          },
          "metadata": {}
        }
      ]
    },
    {
      "cell_type": "code",
      "source": [
        "#plot the null distrbiution (the list with bootstrapped props)\n",
        "#Note: if you used the function shape_p_value(),set the value for the argument direction to \"right\"\n",
        "#visualize(NULL_distribution)\n",
        "visualize(NULL_distribution)\n",
        "#then plot a line to represent the observed differnce\n",
        "\n",
        "visualize(NULL_distribution) + shade_p_value(obs_stat = point , direction = \"right\")"
      ],
      "metadata": {
        "id": "_Y2TXkox46CU",
        "colab": {
          "base_uri": "https://localhost:8080/",
          "height": 857
        },
        "outputId": "4e766b7c-e470-42ef-9e89-9ff4f2c874ae"
      },
      "execution_count": null,
      "outputs": [
        {
          "output_type": "display_data",
          "data": {
            "text/plain": [
              "plot without title"
            ],
            "image/png": "[encoded data removed]"
          },
          "metadata": {
            "image/png": {
              "width": 420,
              "height": 420
            }
          }
        },
        {
          "output_type": "display_data",
          "data": {
            "text/plain": [
              "plot without title"
            ],
            "image/png": "[encoded data removed]"
          },
          "metadata": {
            "image/png": {
              "width": 420,
              "height": 420
            }
          }
        }
      ]
    },
    {
      "cell_type": "code",
      "source": [
        "#calculate the p_value\n",
        "#Note: if you used the function get_p_value(),set the value for the argument direction to \"right\"\n",
        "NULL_distribution %>% get_p_value(obs_stat = point , direction = \"right\")"
      ],
      "metadata": {
        "id": "lawTYv6w5P3F",
        "colab": {
          "base_uri": "https://localhost:8080/",
          "height": 147
        },
        "outputId": "a04d82f7-1550-4f20-fc5c-4bbf47ef979e"
      },
      "execution_count": null,
      "outputs": [
        {
          "output_type": "display_data",
          "data": {
            "text/html": [
              "<table class=\"dataframe\">\n",
              "<caption>A tibble: 1 × 1</caption>\n",
              "<thead>\n",
              "\t<tr><th scope=col>p_value</th></tr>\n",
              "\t<tr><th scope=col>&lt;dbl&gt;</th></tr>\n",
              "</thead>\n",
              "<tbody>\n",
              "\t<tr><td>0.034</td></tr>\n",
              "</tbody>\n",
              "</table>\n"
            ],
            "text/markdown": "\nA tibble: 1 × 1\n\n| p_value &lt;dbl&gt; |\n|---|\n| 0.034 |\n\n",
            "text/latex": "A tibble: 1 × 1\n\\begin{tabular}{l}\n p\\_value\\\\\n <dbl>\\\\\n\\hline\n\t 0.034\\\\\n\\end{tabular}\n",
            "text/plain": [
              "  p_value\n",
              "1 0.034  "
            ]
          },
          "metadata": {}
        }
      ]
    },
    {
      "cell_type": "markdown",
      "source": [
        "The p_value for retention_1 is greater than 0.005 and that means we shouldn't move away from the null hypothesis (we fail to reject the null hypothesis ) ,that means the gate **should be kept at level 30.**\n",
        "\n"
      ],
      "metadata": {
        "id": "pugHNzQL5YQv"
      }
    },
    {
      "cell_type": "markdown",
      "source": [
        "The bootstrap analysis tells us that there is a high probability that 1-day retention is better when the gate is at level 30. However, since players have only been playing the game for one day, it is likely that most players haven't reached level 30 yet. That is, many players won't have been affected by the gate, even if it's as early as level 30.\n",
        "\n",
        "But after having played for a week, more players should have reached level 40, and therefore it makes sense to also look at 7-day retention. That is: What percentage of the people that installed the game also showed up a week later to play the game again.\n",
        "\n",
        "**Let's start by calculating 7-day retention for the two AB-groups.**"
      ],
      "metadata": {
        "id": "Lwxikh3w5ph3"
      }
    },
    {
      "cell_type": "code",
      "source": [
        "# Creating an list with bootstrapped props(NULL distribution) for group(retention_7)\n",
        "\n",
        "NULL_distribution1 <- cookie_cats1 %>%\n",
        "  specify(formula =  version ~ retention_7 ,success = \"gate_30\" ) %>%\n",
        "  hypothesize(null = \"independence\") %>%\n",
        "  generate(reps = 500,type = \"permute\") %>%\n",
        "  calculate(stat = \"diff in props\" , order = c(\"False\",\"True\"))\n",
        "head(NULL_distribution1)\n"
      ],
      "metadata": {
        "id": "GU72MRrH5_tf",
        "colab": {
          "base_uri": "https://localhost:8080/",
          "height": 286
        },
        "outputId": "2e47349f-91ba-4419-cc03-ade963596c93"
      },
      "execution_count": null,
      "outputs": [
        {
          "output_type": "display_data",
          "data": {
            "text/html": [
              "<table class=\"dataframe\">\n",
              "<caption>A infer: 6 × 2</caption>\n",
              "<thead>\n",
              "\t<tr><th scope=col>replicate</th><th scope=col>stat</th></tr>\n",
              "\t<tr><th scope=col>&lt;int&gt;</th><th scope=col>&lt;dbl&gt;</th></tr>\n",
              "</thead>\n",
              "<tbody>\n",
              "\t<tr><td>1</td><td>-0.004678544</td></tr>\n",
              "\t<tr><td>2</td><td>-0.006216031</td></tr>\n",
              "\t<tr><td>3</td><td> 0.001910689</td></tr>\n",
              "\t<tr><td>4</td><td> 0.008499922</td></tr>\n",
              "\t<tr><td>5</td><td> 0.002862467</td></tr>\n",
              "\t<tr><td>6</td><td> 0.002349971</td></tr>\n",
              "</tbody>\n",
              "</table>\n"
            ],
            "text/markdown": "\nA infer: 6 × 2\n\n| replicate &lt;int&gt; | stat &lt;dbl&gt; |\n|---|---|\n| 1 | -0.004678544 |\n| 2 | -0.006216031 |\n| 3 |  0.001910689 |\n| 4 |  0.008499922 |\n| 5 |  0.002862467 |\n| 6 |  0.002349971 |\n\n",
            "text/latex": "A infer: 6 × 2\n\\begin{tabular}{ll}\n replicate & stat\\\\\n <int> & <dbl>\\\\\n\\hline\n\t 1 & -0.004678544\\\\\n\t 2 & -0.006216031\\\\\n\t 3 &  0.001910689\\\\\n\t 4 &  0.008499922\\\\\n\t 5 &  0.002862467\\\\\n\t 6 &  0.002349971\\\\\n\\end{tabular}\n",
            "text/plain": [
              "  replicate stat        \n",
              "1 1         -0.004678544\n",
              "2 2         -0.006216031\n",
              "3 3          0.001910689\n",
              "4 4          0.008499922\n",
              "5 5          0.002862467\n",
              "6 6          0.002349971"
            ]
          },
          "metadata": {}
        }
      ]
    },
    {
      "cell_type": "code",
      "source": [
        "#calculate the observed statistics (actual statistics)\n",
        "point1 <- cookie_cats1 %>%\n",
        "group_by(version) %>%\n",
        "summarize (e = mean(retention_7 == \"False\")) %>%\n",
        "summarize(diff(e))"
      ],
      "metadata": {
        "id": "fR-lraxV6CQ9"
      },
      "execution_count": null,
      "outputs": []
    },
    {
      "cell_type": "code",
      "source": [
        "#plot the null distrbiution (the list with bootstrapped props)\n",
        "#then plot a line to represent the observed differnce\n",
        "#Note: if you used the function shape_p_value(),set the value for the argument direction to \"right\"\n",
        "visualize(NULL_distribution1)\n",
        "#then plot a line to represent the observed differnce\n",
        "visualize(NULL_distribution1) + shade_p_value(obs_stat = point1 , direction = \"right\")\n",
        "\n"
      ],
      "metadata": {
        "id": "2PI_jPKx6CZx",
        "colab": {
          "base_uri": "https://localhost:8080/",
          "height": 857
        },
        "outputId": "569251f0-00da-4761-f1b0-d7939c133b93"
      },
      "execution_count": null,
      "outputs": [
        {
          "output_type": "display_data",
          "data": {
            "text/plain": [
              "plot without title"
            ],
            "image/png": "[encoded data removed]"
          },
          "metadata": {
            "image/png": {
              "width": 420,
              "height": 420
            }
          }
        },
        {
          "output_type": "display_data",
          "data": {
            "text/plain": [
              "plot without title"
            ],
            "image/png": "[encoded data removed]"
          },
          "metadata": {
            "image/png": {
              "width": 420,
              "height": 420
            }
          }
        }
      ]
    },
    {
      "cell_type": "code",
      "source": [
        "#calculating the p_value for retention_7\n",
        "#Note: if you used the function get_p_value(),set the value for the argument direction to \"right\"\n",
        "\n",
        "NULL_distribution1 %>% get_p_value(obs_stat = point , direction = \"right\")"
      ],
      "metadata": {
        "id": "9BecLxa_6DN7",
        "colab": {
          "base_uri": "https://localhost:8080/",
          "height": 147
        },
        "outputId": "142a36a6-7cb8-4779-e0e2-342665e0cee4"
      },
      "execution_count": null,
      "outputs": [
        {
          "output_type": "display_data",
          "data": {
            "text/html": [
              "<table class=\"dataframe\">\n",
              "<caption>A tibble: 1 × 1</caption>\n",
              "<thead>\n",
              "\t<tr><th scope=col>p_value</th></tr>\n",
              "\t<tr><th scope=col>&lt;dbl&gt;</th></tr>\n",
              "</thead>\n",
              "<tbody>\n",
              "\t<tr><td>0.11</td></tr>\n",
              "</tbody>\n",
              "</table>\n"
            ],
            "text/markdown": "\nA tibble: 1 × 1\n\n| p_value &lt;dbl&gt; |\n|---|\n| 0.11 |\n\n",
            "text/latex": "A tibble: 1 × 1\n\\begin{tabular}{l}\n p\\_value\\\\\n <dbl>\\\\\n\\hline\n\t 0.11\\\\\n\\end{tabular}\n",
            "text/plain": [
              "  p_value\n",
              "1 0.11   "
            ]
          },
          "metadata": {}
        }
      ]
    },
    {
      "cell_type": "markdown",
      "source": [
        "\n",
        "The bootstrap result tells us that there is strong evidence 99.8% probability that 7-day retention is higher when the gate is at level 30 than when it is at level 40.\n",
        "\n",
        "The probability that 1-day retention is greater when the gate is at level 30: 97.0%       \n",
        "The probability that 7-days retention is greater when the gate is at level 30: 100.0%"
      ],
      "metadata": {
        "id": "nI1odlWRLivX"
      }
    },
    {
      "cell_type": "markdown",
      "source": [
        "# 5. The conclusion\n",
        "\n",
        "If we want to keep retention high — both 1-day and 7-day retention — we should not move the gate from level 30 to level 40. There are, of course, other metrics we could look at, like the number of game rounds played or how much in-game purchases are made by the two AB-groups. But retention is one of the most important metrics.\n"
      ],
      "metadata": {
        "id": "p4DycvfuLkH7"
      }
    }
  ]
}